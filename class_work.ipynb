{
  "nbformat": 4,
  "nbformat_minor": 0,
  "metadata": {
    "colab": {
      "provenance": [],
      "authorship_tag": "ABX9TyMiVGHxHeXPQvFZ0Dm10EKV",
      "include_colab_link": true
    },
    "kernelspec": {
      "name": "python3",
      "display_name": "Python 3"
    },
    "language_info": {
      "name": "python"
    }
  },
  "cells": [
    {
      "cell_type": "markdown",
      "metadata": {
        "id": "view-in-github",
        "colab_type": "text"
      },
      "source": [
        "<a href=\"https://colab.research.google.com/github/siamrahman495/my-first-web/blob/main/class_work.ipynb\" target=\"_parent\"><img src=\"https://colab.research.google.com/assets/colab-badge.svg\" alt=\"Open In Colab\"/></a>"
      ]
    },
    {
      "cell_type": "code",
      "execution_count": 2,
      "metadata": {
        "id": "L2lrC41q4uCT",
        "colab": {
          "base_uri": "https://localhost:8080/"
        },
        "outputId": "dc90cc9b-2657-4652-8c05-a3536c3ba950"
      },
      "outputs": [
        {
          "output_type": "stream",
          "name": "stdout",
          "text": [
            "Enter the color:red\n",
            "True\n",
            "136824845449792\n",
            "136825058837072\n",
            "136825058837744\n",
            "136825058838448\n",
            "136825058838800\n",
            "2\n",
            "2\n",
            "40\n"
          ]
        }
      ],
      "source": [
        "\n",
        "color=[\"black\",\"red\",\"blue\",\"white\",\"green\"]\n",
        "user_color=input(\"Enter the color:\")\n",
        "print(user_color in color)\n",
        "\n",
        "\n",
        "l=[12,33,55,66,77,88]\n",
        "print(id(l))\n",
        "print(id(l[0]))\n",
        "print(id(l[1]))\n",
        "print(id(l[2]))\n",
        "print(id(l[3]))\n",
        "\n",
        "a=10\n",
        "b=12\n",
        "print(a&2)\n",
        "\n",
        "print(a>>2)\n",
        "print(a<<2)"
      ]
    },
    {
      "cell_type": "code",
      "source": [
        "sum_of_odds = 0\n",
        "\n",
        "\n",
        "for num in range(50, 0, -1):\n",
        "    if num % 2 != 0:\n",
        "        sum_of_odds += num\n",
        "\n",
        "print(\"Sum of odd numbers from 50 to 1:\", sum_of_odds)\n",
        "\n"
      ],
      "metadata": {
        "colab": {
          "base_uri": "https://localhost:8080/"
        },
        "id": "WotqHQTDRFhw",
        "outputId": "e9a45130-93a8-49f6-c727-16c72e193d32"
      },
      "execution_count": 9,
      "outputs": [
        {
          "output_type": "stream",
          "name": "stdout",
          "text": [
            "Sum of odd numbers from 50 to 1: 625\n"
          ]
        }
      ]
    },
    {
      "cell_type": "code",
      "source": [
        "sum = 0\n",
        "i=10\n",
        "while i <= 50:\n",
        "  sum += i\n",
        "  i+=1\n",
        "  print(sum)\n"
      ],
      "metadata": {
        "colab": {
          "base_uri": "https://localhost:8080/"
        },
        "id": "pJSM8uzlTIzS",
        "outputId": "68ad52da-6285-47a2-e3e2-7f0a02e395e1"
      },
      "execution_count": 13,
      "outputs": [
        {
          "output_type": "stream",
          "name": "stdout",
          "text": [
            "10\n",
            "21\n",
            "33\n",
            "46\n",
            "60\n",
            "75\n",
            "91\n",
            "108\n",
            "126\n",
            "145\n",
            "165\n",
            "186\n",
            "208\n",
            "231\n",
            "255\n",
            "280\n",
            "306\n",
            "333\n",
            "361\n",
            "390\n",
            "420\n",
            "451\n",
            "483\n",
            "516\n",
            "550\n",
            "585\n",
            "621\n",
            "658\n",
            "696\n",
            "735\n",
            "775\n",
            "816\n",
            "858\n",
            "901\n",
            "945\n",
            "990\n",
            "1036\n",
            "1083\n",
            "1131\n",
            "1180\n",
            "1230\n"
          ]
        }
      ]
    },
    {
      "cell_type": "code",
      "source": [
        "number = int(input(\"Enter an integer: \"))\n",
        "\n",
        "\n",
        "if(number % 3 == 0 and number % 5 == 0):\n",
        "    print(\"Divisible by 3 and 5\")\n",
        "else:\n",
        "    print(\"Not divisible by 3 and 5\")"
      ],
      "metadata": {
        "colab": {
          "base_uri": "https://localhost:8080/"
        },
        "id": "rArYxfq4LnX1",
        "outputId": "ec2da066-77df-4f7b-b55b-df34b34d7719"
      },
      "execution_count": 6,
      "outputs": [
        {
          "output_type": "stream",
          "name": "stdout",
          "text": [
            "Enter an integer: 15\n",
            "Divisible by 3 and 5\n"
          ]
        }
      ]
    },
    {
      "cell_type": "code",
      "source": [
        "\n",
        "number = int(input(\"Enter a positive integer: \"))\n",
        "\n",
        "\n",
        "sum_of_digits = 0\n",
        "\n",
        "\n",
        "while number > 0:\n",
        "    digit = number % 10  # Get the last digit\n",
        "    sum_of_digits += digit  # Add it to the sum\n",
        "    number //= 10  # Remove the last digit\n",
        "\n",
        "\n",
        "print(\"Sum of digits:\", sum_of_digits)\n"
      ],
      "metadata": {
        "colab": {
          "base_uri": "https://localhost:8080/"
        },
        "id": "yG3rxkw0IhUv",
        "outputId": "d3681b1f-625a-4994-d6c6-9f9c3d163acd"
      },
      "execution_count": 7,
      "outputs": [
        {
          "output_type": "stream",
          "name": "stdout",
          "text": [
            "Enter a positive integer: 554\n",
            "Sum of digits: 14\n"
          ]
        }
      ]
    },
    {
      "cell_type": "code",
      "source": [
        "\n",
        "number = int(input(\"Enter a number: \"))\n",
        "\n",
        "\n",
        "for i in range(1, 13):\n",
        "    result = number * i\n",
        "    print(f\"{number} x {i} = {result}\")\n"
      ],
      "metadata": {
        "colab": {
          "base_uri": "https://localhost:8080/"
        },
        "id": "6KTXwR_5YWl2",
        "outputId": "28679923-6e86-4898-cd37-8d7e02b00d65"
      },
      "execution_count": 14,
      "outputs": [
        {
          "output_type": "stream",
          "name": "stdout",
          "text": [
            "Enter a number: 55\n",
            "55 x 1 = 55\n",
            "55 x 2 = 110\n",
            "55 x 3 = 165\n",
            "55 x 4 = 220\n",
            "55 x 5 = 275\n",
            "55 x 6 = 330\n",
            "55 x 7 = 385\n",
            "55 x 8 = 440\n",
            "55 x 9 = 495\n",
            "55 x 10 = 550\n",
            "55 x 11 = 605\n",
            "55 x 12 = 660\n"
          ]
        }
      ]
    },
    {
      "cell_type": "code",
      "source": [
        "\n",
        "numbers = []\n",
        "\n",
        "\n",
        "while True:\n",
        "    num = int(input(\"Enter a number (-1 to stop): \"))\n",
        "    if num == -1:\n",
        "        break\n",
        "\n",
        "    numbers.append(num)\n",
        "\n",
        "if len(numbers) > 0:\n",
        "    largest_number = max(numbers)\n",
        "    print(\"The largest number is:\", largest_number)\n",
        "else:\n",
        "    print(\"No numbers were entered.\")\n"
      ],
      "metadata": {
        "colab": {
          "base_uri": "https://localhost:8080/"
        },
        "id": "L3PHqdQ2aKTG",
        "outputId": "986ded1f-e796-4c0d-98bf-4c9cfcfa5c2a"
      },
      "execution_count": 15,
      "outputs": [
        {
          "output_type": "stream",
          "name": "stdout",
          "text": [
            "Enter a number (-1 to stop): 5\n",
            "Enter a number (-1 to stop): 7\n",
            "Enter a number (-1 to stop): 9\n",
            "Enter a number (-1 to stop): 23\n",
            "Enter a number (-1 to stop): 44\n",
            "Enter a number (-1 to stop): 1\n",
            "Enter a number (-1 to stop): -1\n",
            "The largest number is: 44\n"
          ]
        }
      ]
    }
  ]
}