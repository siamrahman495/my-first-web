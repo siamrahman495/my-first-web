{
  "nbformat": 4,
  "nbformat_minor": 0,
  "metadata": {
    "colab": {
      "provenance": [],
      "authorship_tag": "ABX9TyO3HkCwXUcBycuAT9JQd2gB",
      "include_colab_link": true
    },
    "kernelspec": {
      "name": "python3",
      "display_name": "Python 3"
    },
    "language_info": {
      "name": "python"
    }
  },
  "cells": [
    {
      "cell_type": "markdown",
      "metadata": {
        "id": "view-in-github",
        "colab_type": "text"
      },
      "source": [
        "<a href=\"https://colab.research.google.com/github/siamrahman495/my-first-web/blob/main/class_work.ipynb\" target=\"_parent\"><img src=\"https://colab.research.google.com/assets/colab-badge.svg\" alt=\"Open In Colab\"/></a>"
      ]
    },
    {
      "cell_type": "code",
      "execution_count": 2,
      "metadata": {
        "colab": {
          "base_uri": "https://localhost:8080/"
        },
        "id": "s-LiL1XFU0Te",
        "outputId": "acb4f8a2-9aa2-4329-8faf-d04072f77fa4"
      },
      "outputs": [
        {
          "output_type": "stream",
          "name": "stdout",
          "text": [
            "Enter a new item to add to the set:44\n",
            "updated set:, set\n"
          ]
        }
      ],
      "source": [
        "set = {1, 2, 3, 4, 5}\n",
        "\n",
        "new_item = int(input(\"Enter a new item to add to the set:\"))\n",
        "set.add(new_item)\n",
        "\n",
        "print(\"updated set:, set\")"
      ]
    },
    {
      "cell_type": "code",
      "source": [
        "set"
      ],
      "metadata": {
        "colab": {
          "base_uri": "https://localhost:8080/"
        },
        "id": "aZcl3kPzXptf",
        "outputId": "1ba88c14-dad1-4c44-d7ac-32722ffffef7"
      },
      "execution_count": 3,
      "outputs": [
        {
          "output_type": "execute_result",
          "data": {
            "text/plain": [
              "{1, 2, 3, 4, 5, 44}"
            ]
          },
          "metadata": {},
          "execution_count": 3
        }
      ]
    },
    {
      "cell_type": "code",
      "source": [
        "set = {1, 2, 3, 4, 5}\n",
        "set.clear()\n",
        "print(\"Empty set\", set)"
      ],
      "metadata": {
        "colab": {
          "base_uri": "https://localhost:8080/"
        },
        "id": "WSXAUwXRX6PF",
        "outputId": "84d2dfa5-faf7-46cc-f175-8e7effae1dec"
      },
      "execution_count": 4,
      "outputs": [
        {
          "output_type": "stream",
          "name": "stdout",
          "text": [
            "Empty set set()\n"
          ]
        }
      ]
    },
    {
      "cell_type": "code",
      "source": [
        "# Create an empty set\n",
        "my_set = set()\n",
        "\n",
        "# Get 5 items from the user\n",
        "for i in range(5):\n",
        "    item = input(f\"Enter item {i + 1}: \")\n",
        "    my_set.add(item)\n",
        "\n",
        "# Display items in lower and upper case\n",
        "print(\"\\nItems in lower case:\")\n",
        "for item in my_set:\n",
        "    print(item.lower())\n",
        "\n",
        "print(\"\\nItems in upper case:\")\n",
        "for item in my_set:\n",
        "    print(item.upper())"
      ],
      "metadata": {
        "colab": {
          "base_uri": "https://localhost:8080/",
          "height": 211
        },
        "id": "9gH979k4ZNhj",
        "outputId": "8c7dfa7d-bf60-4944-f5f9-301e53ec94ee"
      },
      "execution_count": 9,
      "outputs": [
        {
          "output_type": "error",
          "ename": "TypeError",
          "evalue": "'set' object is not callable",
          "traceback": [
            "\u001b[0;31m---------------------------------------------------------------------------\u001b[0m",
            "\u001b[0;31mTypeError\u001b[0m                                 Traceback (most recent call last)",
            "\u001b[0;32m<ipython-input-9-a1f9a87d06a7>\u001b[0m in \u001b[0;36m<cell line: 2>\u001b[0;34m()\u001b[0m\n\u001b[1;32m      1\u001b[0m \u001b[0;31m# Create an empty set\u001b[0m\u001b[0;34m\u001b[0m\u001b[0;34m\u001b[0m\u001b[0m\n\u001b[0;32m----> 2\u001b[0;31m \u001b[0mmy_set\u001b[0m \u001b[0;34m=\u001b[0m \u001b[0mset\u001b[0m\u001b[0;34m(\u001b[0m\u001b[0;34m)\u001b[0m\u001b[0;34m\u001b[0m\u001b[0;34m\u001b[0m\u001b[0m\n\u001b[0m\u001b[1;32m      3\u001b[0m \u001b[0;34m\u001b[0m\u001b[0m\n\u001b[1;32m      4\u001b[0m \u001b[0;31m# Get 5 items from the user\u001b[0m\u001b[0;34m\u001b[0m\u001b[0;34m\u001b[0m\u001b[0m\n\u001b[1;32m      5\u001b[0m \u001b[0;32mfor\u001b[0m \u001b[0mi\u001b[0m \u001b[0;32min\u001b[0m \u001b[0mrange\u001b[0m\u001b[0;34m(\u001b[0m\u001b[0;36m5\u001b[0m\u001b[0;34m)\u001b[0m\u001b[0;34m:\u001b[0m\u001b[0;34m\u001b[0m\u001b[0;34m\u001b[0m\u001b[0m\n",
            "\u001b[0;31mTypeError\u001b[0m: 'set' object is not callable"
          ]
        }
      ]
    },
    {
      "cell_type": "code",
      "source": [
        "\n",
        "my_set = {\"apple\", \"banana\", \"cherry\"}\n",
        "\n",
        "print(\"Current Set:\", my_set)\n",
        "\n",
        "new_item = input(\"Enter an item to update the set: \")\n",
        "\n",
        "my_set.add(new_item)\n",
        "\n",
        "print(\"Updated Set:\", my_set)\n"
      ],
      "metadata": {
        "colab": {
          "base_uri": "https://localhost:8080/"
        },
        "id": "5_OL2RPocZhr",
        "outputId": "0b264837-1e11-4ba5-c6b8-1cbb4ceeb038"
      },
      "execution_count": 11,
      "outputs": [
        {
          "output_type": "stream",
          "name": "stdout",
          "text": [
            "Current Set: {'banana', 'apple', 'cherry'}\n",
            "Enter an item to update the set: 55\n",
            "Updated Set: {'55', 'banana', 'apple', 'cherry'}\n"
          ]
        }
      ]
    },
    {
      "cell_type": "code",
      "source": [
        "# Create an empty set to store the numbers\n",
        "numbers = set()\n",
        "\n",
        "# Loop to get 5 numbers from the user\n",
        "for i in range(5):\n",
        "    # Ensure that the user enters a valid number\n",
        "    while True:\n",
        "        try:\n",
        "            num = float(input(f\"Enter number {i + 1}: \"))\n",
        "            numbers.add(num)  # Add the number to the set\n",
        "            break  # Exit the loop if the number is valid\n",
        "        except ValueError:\n",
        "            print(\"Invalid input! Please enter a valid number.\")\n",
        "\n",
        "# Calculate the sum and product of the numbers in the set\n",
        "sum_of_numbers = sum(numbers)\n",
        "product_of_numbers = 1\n",
        "for num in numbers:\n",
        "    product_of_numbers *= num\n",
        "\n",
        "# Display the results\n",
        "print(\"\\nNumbers in the set:\", numbers)\n",
        "print(\"Sum of the numbers:\", sum_of_numbers)\n",
        "print(\"Product of the numbers:\", product_of_numbers)\n"
      ],
      "metadata": {
        "colab": {
          "base_uri": "https://localhost:8080/",
          "height": 211
        },
        "id": "O7L_cN2adsU9",
        "outputId": "9f3cdcc3-3795-4072-8890-b88549d21042"
      },
      "execution_count": 13,
      "outputs": [
        {
          "output_type": "error",
          "ename": "TypeError",
          "evalue": "'set' object is not callable",
          "traceback": [
            "\u001b[0;31m---------------------------------------------------------------------------\u001b[0m",
            "\u001b[0;31mTypeError\u001b[0m                                 Traceback (most recent call last)",
            "\u001b[0;32m<ipython-input-13-91ace98316db>\u001b[0m in \u001b[0;36m<cell line: 2>\u001b[0;34m()\u001b[0m\n\u001b[1;32m      1\u001b[0m \u001b[0;31m# Create an empty set to store the numbers\u001b[0m\u001b[0;34m\u001b[0m\u001b[0;34m\u001b[0m\u001b[0m\n\u001b[0;32m----> 2\u001b[0;31m \u001b[0mnumbers\u001b[0m \u001b[0;34m=\u001b[0m \u001b[0mset\u001b[0m\u001b[0;34m(\u001b[0m\u001b[0;34m)\u001b[0m\u001b[0;34m\u001b[0m\u001b[0;34m\u001b[0m\u001b[0m\n\u001b[0m\u001b[1;32m      3\u001b[0m \u001b[0;34m\u001b[0m\u001b[0m\n\u001b[1;32m      4\u001b[0m \u001b[0;31m# Loop to get 5 numbers from the user\u001b[0m\u001b[0;34m\u001b[0m\u001b[0;34m\u001b[0m\u001b[0m\n\u001b[1;32m      5\u001b[0m \u001b[0;32mfor\u001b[0m \u001b[0mi\u001b[0m \u001b[0;32min\u001b[0m \u001b[0mrange\u001b[0m\u001b[0;34m(\u001b[0m\u001b[0;36m5\u001b[0m\u001b[0;34m)\u001b[0m\u001b[0;34m:\u001b[0m\u001b[0;34m\u001b[0m\u001b[0;34m\u001b[0m\u001b[0m\n",
            "\u001b[0;31mTypeError\u001b[0m: 'set' object is not callable"
          ]
        }
      ]
    },
    {
      "cell_type": "code",
      "source": [],
      "metadata": {
        "id": "ldm7n4J1qy0l"
      },
      "execution_count": null,
      "outputs": []
    },
    {
      "cell_type": "code",
      "source": [
        "# Create a set with some initial items\n",
        "my_set = {1, 2, 3, 4, 5, 6}\n",
        "\n",
        "# Display the current set\n",
        "print(\"Current Set:\", my_set)\n",
        "\n",
        "# Ask the user which item to remove\n",
        "item_to_remove = input(\"Enter the item to remove: \")\n",
        "\n",
        "# Check if the item exists in the set and remove it\n",
        "if item_to_remove.isdigit():\n",
        "    item_to_remove = int(item_to_remove)\n",
        "    if item_to_remove in my_set:\n",
        "        my_set.remove(item_to_remove)\n",
        "        print(f\"Item {item_to_remove} removed successfully.\")\n",
        "    else:\n",
        "        print(f\"Item {item_to_remove} not found in the set.\")\n",
        "else:\n",
        "    print(\"Please enter a valid number.\")\n",
        "\n",
        "# Display the updated set\n",
        "print(\"Updated Set:\", my_set)\n"
      ],
      "metadata": {
        "id": "qP_YwSIZeUAl"
      },
      "execution_count": null,
      "outputs": []
    },
    {
      "cell_type": "code",
      "source": [
        "my_set = {1, 2, 3, 4, 5, 6}\n",
        "print(\"Current Set:\", my_set)\n",
        "item_to_remove = input(\"Enter the item to remove: \")\n",
        "if item_to_remove.isdigit():\n",
        "    item_to_remove = int(item_to_remove)\n",
        "    if item_to_remove in my_set:\n",
        "        my_set.remove(item_to_remove)\n",
        "        print(f\"Item {item_to_remove} removed successfully.\")\n",
        "    else:\n",
        "        print(f\"Item {item_to_remove} not found in the set.\")\n",
        "else:\n",
        "    print(\"Please enter a valid number.\")\n",
        "print(\"Updated Set:\", my_set)\n"
      ],
      "metadata": {
        "id": "EMRBks_2pDK0"
      },
      "execution_count": null,
      "outputs": []
    },
    {
      "cell_type": "code",
      "source": [
        "set1 = set()\n",
        "for i in range(5):\n",
        "    item = input(f\"Enter item {i + 1} for the first set: \")\n",
        "    set1.add(item)\n",
        "set2 = set()\n",
        "for i in range(5):\n",
        "    item = input(f\"Enter item {i + 1} for the second set: \")\n",
        "    set2.add(item)\n",
        "subtraction_result = set1 - set2\n",
        "print(\"\\nFirst Set:\", set1)\n",
        "print(\"Second Set:\", set2)\n",
        "print(\"Subtraction of First Set - Second Set:\", subtraction_result)\n"
      ],
      "metadata": {
        "id": "sgrD-7pypQ-4"
      },
      "execution_count": null,
      "outputs": []
    },
    {
      "cell_type": "code",
      "source": [
        "set1 = set()\n",
        "for i in range(5):\n",
        "    item = input(f\"Enter item {i + 1} for the first set: \")\n",
        "    set1.add(item)\n",
        "set2 = set()\n",
        "for i in range(5):\n",
        "    item = input(f\"Enter item {i + 1} for the second set: \")\n",
        "    set2.add(item)\n",
        "union_result = set1 | set2\n",
        "print(\"\\nFirst Set:\", set1)\n",
        "print(\"Second Set:\", set2)\n",
        "print(\"Union of both sets (excluding duplicates):\", union_result)\n"
      ],
      "metadata": {
        "id": "akrKO-e_pTdi"
      },
      "execution_count": null,
      "outputs": []
    },
    {
      "cell_type": "code",
      "source": [
        "set1 = set()\n",
        "for i in range(5):\n",
        "    item = input(f\"Enter item {i + 1} for the first set: \")\n",
        "    set1.add(item)\n",
        "set2 = set()\n",
        "for i in range(5):\n",
        "    item = input(f\"Enter item {i + 1} for the second set: \")\n",
        "    set2.add(item)\n",
        "union_result = set1 | set2\n",
        "print(\"\\nFirst Set:\", set1)\n",
        "print(\"Second Set:\", set2)\n",
        "print(\"Union of both sets (excluding duplicates):\", union_result)\n"
      ],
      "metadata": {
        "id": "o4BqPFoPpY3v"
      },
      "execution_count": null,
      "outputs": []
    },
    {
      "cell_type": "code",
      "source": [
        "odd_numbers = {num for num in range(1, 101) if num % 2 != 0}\n",
        "print(odd_numbers)\n"
      ],
      "metadata": {
        "colab": {
          "base_uri": "https://localhost:8080/"
        },
        "id": "3rRYt6myq0Wr",
        "outputId": "48b8e2e2-b9c2-4b99-d02f-4ee1bd97ee4f"
      },
      "execution_count": 14,
      "outputs": [
        {
          "output_type": "stream",
          "name": "stdout",
          "text": [
            "{1, 3, 5, 7, 9, 11, 13, 15, 17, 19, 21, 23, 25, 27, 29, 31, 33, 35, 37, 39, 41, 43, 45, 47, 49, 51, 53, 55, 57, 59, 61, 63, 65, 67, 69, 71, 73, 75, 77, 79, 81, 83, 85, 87, 89, 91, 93, 95, 97, 99}\n"
          ]
        }
      ]
    },
    {
      "cell_type": "code",
      "source": [
        "students = {\"Alice\", \"Bob\", \"Emma\", \"Sofia\", \"Mark\", \"Anna\"}\n",
        "students_ending_with_a = {student for student in students if student.endswith('a')}\n",
        "print(students_ending_with_a)\n"
      ],
      "metadata": {
        "colab": {
          "base_uri": "https://localhost:8080/"
        },
        "id": "k0O4-AZBq6Zr",
        "outputId": "cd912bd1-4df5-4939-8a6e-1b95ac671cb4"
      },
      "execution_count": 15,
      "outputs": [
        {
          "output_type": "stream",
          "name": "stdout",
          "text": [
            "{'Sofia', 'Emma', 'Anna'}\n"
          ]
        }
      ]
    },
    {
      "cell_type": "code",
      "source": [
        "set1 = set(input(\"Enter elements of first set (separate by space): \").split())\n",
        "set2 = set(input(\"Enter elements of second set (separate by space): \").split())\n",
        "\n",
        "intersection = set1 & set2\n",
        "print(\"Intersection of the sets:\", intersection)\n"
      ],
      "metadata": {
        "id": "4YJclpKWt7Ei"
      },
      "execution_count": null,
      "outputs": []
    },
    {
      "cell_type": "code",
      "source": [
        "set1 = set(input(\"Enter elements of first set (separate by space): \").split())\n",
        "set2 = set(input(\"Enter elements of second set (separate by space): \").split())\n",
        "\n",
        "if set1.issubset(set2):\n",
        "    print(\"First set is a subset of the second set.\")\n",
        "elif set2.issubset(set1):\n",
        "    print(\"Second set is a subset of the first set.\")\n",
        "else:\n",
        "    print(\"Neither set is a subset of the other.\")\n"
      ],
      "metadata": {
        "id": "YlnTl3L5uqTJ"
      },
      "execution_count": null,
      "outputs": []
    },
    {
      "cell_type": "code",
      "source": [
        "my_set = {1, 2, 3, 4, 5}\n",
        "print(\"Initial Set:\", my_set)\n",
        "\n",
        "item_to_remove = int(input(\"Enter the item to remove from the set: \"))\n",
        "if item_to_remove in my_set:\n",
        "    my_set.remove(item_to_remove)\n",
        "    print(f\"Item {item_to_remove} removed from the set.\")\n",
        "else:\n",
        "    print(f\"Item {item_to_remove} not found in the set.\")\n",
        "\n",
        "print(\"Set after removal:\", my_set)\n",
        "\n",
        "my_set.add(item_to_remove)\n",
        "print(\"Set after adding the removed item back:\", my_set)\n"
      ],
      "metadata": {
        "id": "7qQfypdQu0VZ"
      },
      "execution_count": null,
      "outputs": []
    },
    {
      "cell_type": "code",
      "source": [
        "my_set = set()\n",
        "for i in range(5):\n",
        "    item = input(f\"Enter item {i + 1}: \")\n",
        "    my_set.add(item)\n",
        "\n",
        "print(\"\\nItems in the set with their lengths:\")\n",
        "for item in my_set:\n",
        "    print(f\"{item} - Length: {len(item)}\")\n"
      ],
      "metadata": {
        "id": "kZGKufKquZau"
      },
      "execution_count": null,
      "outputs": []
    },
    {
      "cell_type": "code",
      "source": [
        "user_list = []\n",
        "for i in range(5):\n",
        "    item = input(f\"Enter item {i + 1}: \")\n",
        "    user_list.append(item)\n",
        "\n",
        "user_set = set()\n",
        "user_set.add(frozenset(user_list))\n",
        "\n",
        "print(\"Set after adding the list:\", user_set)\n"
      ],
      "metadata": {
        "id": "k1wekMewu3lD"
      },
      "execution_count": null,
      "outputs": []
    },
    {
      "cell_type": "code",
      "source": [
        "# Get user input\n",
        "first_name = input(\"Enter your first name: \")\n",
        "last_name = input(\"Enter your last name: \")\n",
        "email = input(\"Enter your email address: \")\n",
        "contact_number = input(\"Enter your contact number: \")\n",
        "\n",
        "# Format the string in different styles\n",
        "formatted_style1 = f\"Full Name: {first_name} {last_name}\\nEmail: {email}\\nContact Number: {contact_number}\"\n",
        "formatted_style2 = \"Full Name: {} {}\\nEmail: {}\\nContact Number: {}\".format(first_name, last_name, email, contact_number)\n",
        "formatted_style3 = \"Full Name: %s %s\\nEmail: %s\\nContact Number: %s\" % (first_name, last_name, email, contact_number)\n",
        "\n",
        "# Display the formatted strings\n",
        "print(\"\\nFormatted Style 1:\\n\", formatted_style1)\n",
        "print(\"\\nFormatted Style 2:\\n\", formatted_style2)\n",
        "print(\"\\nFormatted Style 3:\\n\", formatted_style3)\n"
      ],
      "metadata": {
        "id": "mUOINs8IzPiB"
      },
      "execution_count": null,
      "outputs": []
    },
    {
      "cell_type": "code",
      "source": [
        "\n",
        "physics = float(input(\"Enter marks in Physics: \"))\n",
        "chemistry = float(input(\"Enter marks in Chemistry: \"))\n",
        "math = float(input(\"Enter marks in Math: \"))\n",
        "\n",
        "total_marks = physics + chemistry + math\n",
        "average_marks = total_marks / 3\n",
        "\n",
        "formatted_string = f\"Hi, Your marks in Physics = {physics}, Chemistry = {chemistry}, Math = {math}. \"\\\n",
        "                   f\"And Your Total Marks is {total_marks} and Average is {average_marks:.2f}.\"\n",
        "\n",
        "print(formatted_string)\n"
      ],
      "metadata": {
        "id": "hYv1WZWnzj4C"
      },
      "execution_count": null,
      "outputs": []
    }
  ]
}