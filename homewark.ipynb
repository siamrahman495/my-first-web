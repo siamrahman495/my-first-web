{
  "nbformat": 4,
  "nbformat_minor": 0,
  "metadata": {
    "colab": {
      "provenance": [],
      "authorship_tag": "ABX9TyPGymfpw4yli8Zb8Mi+gbvW",
      "include_colab_link": true
    },
    "kernelspec": {
      "name": "python3",
      "display_name": "Python 3"
    },
    "language_info": {
      "name": "python"
    }
  },
  "cells": [
    {
      "cell_type": "markdown",
      "metadata": {
        "id": "view-in-github",
        "colab_type": "text"
      },
      "source": [
        "<a href=\"https://colab.research.google.com/github/siamrahman495/my-first-web/blob/main/homewark.ipynb\" target=\"_parent\"><img src=\"https://colab.research.google.com/assets/colab-badge.svg\" alt=\"Open In Colab\"/></a>"
      ]
    },
    {
      "cell_type": "code",
      "execution_count": null,
      "metadata": {
        "id": "nAyy33eQFMM8",
        "outputId": "5210fc69-c86c-428f-c8bf-2a59d669efd1",
        "colab": {
          "base_uri": "https://localhost:8080/"
        }
      },
      "outputs": [
        {
          "output_type": "stream",
          "name": "stdout",
          "text": [
            "Al siam \n",
            "Enter Your Name: siam\n",
            "siam\n",
            "True\n",
            "False\n",
            "AND operator: False\n",
            "OR operator: True\n"
          ]
        }
      ],
      "source": [
        "print(\"Al siam \")\n",
        "\n",
        "Name = input(\"Enter Your Name: \")\n",
        "print(Name)\n",
        "# Logical operators\n",
        "a = 50\n",
        "b= 30\n",
        "print(not False)\n",
        "print(not(a > b))\n",
        "val1 = False\n",
        "val2 = True\n",
        "print(\"AND operator:\",val1 and val2)\n",
        "print(\"OR operator:\",val1 or val2)\n"
      ]
    }
  ]
}