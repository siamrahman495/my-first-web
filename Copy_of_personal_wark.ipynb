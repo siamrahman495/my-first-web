{
  "nbformat": 4,
  "nbformat_minor": 0,
  "metadata": {
    "colab": {
      "provenance": [],
      "authorship_tag": "ABX9TyOnmqwpYf/In/RDzGMqaHXc",
      "include_colab_link": true
    },
    "kernelspec": {
      "name": "python3",
      "display_name": "Python 3"
    },
    "language_info": {
      "name": "python"
    }
  },
  "cells": [
    {
      "cell_type": "markdown",
      "metadata": {
        "id": "view-in-github",
        "colab_type": "text"
      },
      "source": [
        "<a href=\"https://colab.research.google.com/github/siamrahman495/my-first-web/blob/main/Copy_of_personal_wark.ipynb\" target=\"_parent\"><img src=\"https://colab.research.google.com/assets/colab-badge.svg\" alt=\"Open In Colab\"/></a>"
      ]
    },
    {
      "cell_type": "code",
      "execution_count": null,
      "metadata": {
        "colab": {
          "base_uri": "https://localhost:8080/"
        },
        "id": "ZvGr-bNfTRxH",
        "outputId": "fb32cc02-2f4a-4239-e765-b7cab99604cc"
      },
      "outputs": [
        {
          "output_type": "stream",
          "name": "stdout",
          "text": [
            "34\n",
            "89.9\n",
            "(10+20j)\n",
            "Al siam ar rahman\n",
            "[20, 40.6, 'dinajpur']\n",
            "d\n"
          ]
        }
      ],
      "source": [
        "#numeric data type\n",
        "age=34#int\n",
        "print(age)\n",
        "\n",
        "marks=89.9 #float data type\n",
        "print(marks)\n",
        "\n",
        "complex_number=10+20j\n",
        "print(complex_number)\n",
        "\n",
        "#string data type\n",
        "name=\"Al siam ar rahman\"\n",
        "print(name)\n",
        "\n",
        "#sequence data type\n",
        "#list data type\n",
        "city=[\"Dhaka\",\"khula\",\"Dinajpur\"]\n",
        "city=[20,40.6,\"dinajpur\"]\n",
        "latter=[\"a\",\"b\",\"c\",\"d\",\"e\"]\n",
        "print(city)\n",
        "print(latter[3])"
      ]
    },
    {
      "cell_type": "code",
      "source": [
        "#tuple data type\n",
        "number=[\"2\",\"4\",\"6\",\"8\",\"10\"]\n",
        "print(number)\n",
        "#duplicate value\n",
        "duplicate=[\"a\",\"b\",\"c\",\"2\",\"d\",\"e\",\"2\",\"4\",\"6\",\"8\",\"10\"]\n",
        "print(duplicate)\n",
        "\n",
        "#range data type\n",
        "numbers=range(1,10)\n",
        "numbers2=range(1,18,2)\n",
        "print(*numbers2)\n"
      ],
      "metadata": {
        "colab": {
          "base_uri": "https://localhost:8080/"
        },
        "id": "QwVi25sxWIi8",
        "outputId": "540b5597-1159-41b5-d272-39eea9d769ca"
      },
      "execution_count": null,
      "outputs": [
        {
          "output_type": "stream",
          "name": "stdout",
          "text": [
            "['2', '4', '6', '8', '10']\n",
            "['a', 'b', 'c', '2', 'd', 'e', '2', '4', '6', '8', '10']\n",
            "1 3 5 7 9 11 13 15 17\n"
          ]
        }
      ]
    },
    {
      "cell_type": "code",
      "source": [
        "#positive indexing\n",
        "text=\"al siam ar rahman\"\n",
        "print(text[4])\n",
        "print(text[8])\n",
        "#negetive indexing\n",
        "text=\"al siam ar rahman\"\n",
        "print(text[-1])\n",
        "#string slicing\n",
        "#stop string slicing\n",
        "print(text[0:2])#1st to 2\n",
        "print(text[6:7])\n",
        "print(text[6:])#last to 6\n",
        "print(text[:7])#1st to 7\n",
        "#step index slicing\n",
        "print(text[0::3]) #3 mane 3 step por por kata suru korbe\n"
      ],
      "metadata": {
        "colab": {
          "base_uri": "https://localhost:8080/"
        },
        "id": "B9fWuQ9VpZl6",
        "outputId": "62afde82-9a89-4b57-f1a2-eca500f84943"
      },
      "execution_count": null,
      "outputs": [
        {
          "output_type": "stream",
          "name": "stdout",
          "text": [
            "i\n",
            "a\n",
            "n\n",
            "al\n",
            "m\n",
            "m ar rahman\n",
            "al siam\n",
            "asmraa\n"
          ]
        }
      ]
    },
    {
      "cell_type": "code",
      "source": [
        "\n",
        "#string repetition\n",
        "name=\"i love bangladesh, \"\n",
        "repeat=name*100\n",
        "print(repeat)\n",
        "\n",
        "#string concatention jora lagano\n",
        "str1=\"siam\"\n",
        "str2=\"rahman\"\n",
        "combine=str1+str2\n",
        "print(combine)"
      ],
      "metadata": {
        "id": "MrL54dLRG4hu",
        "outputId": "514f5239-ceb8-4936-a3bd-03cfdc187687",
        "colab": {
          "base_uri": "https://localhost:8080/"
        }
      },
      "execution_count": null,
      "outputs": [
        {
          "output_type": "stream",
          "name": "stdout",
          "text": [
            "i love bangladesh, i love bangladesh, i love bangladesh, i love bangladesh, i love bangladesh, i love bangladesh, i love bangladesh, i love bangladesh, i love bangladesh, i love bangladesh, i love bangladesh, i love bangladesh, i love bangladesh, i love bangladesh, i love bangladesh, i love bangladesh, i love bangladesh, i love bangladesh, i love bangladesh, i love bangladesh, i love bangladesh, i love bangladesh, i love bangladesh, i love bangladesh, i love bangladesh, i love bangladesh, i love bangladesh, i love bangladesh, i love bangladesh, i love bangladesh, i love bangladesh, i love bangladesh, i love bangladesh, i love bangladesh, i love bangladesh, i love bangladesh, i love bangladesh, i love bangladesh, i love bangladesh, i love bangladesh, i love bangladesh, i love bangladesh, i love bangladesh, i love bangladesh, i love bangladesh, i love bangladesh, i love bangladesh, i love bangladesh, i love bangladesh, i love bangladesh, i love bangladesh, i love bangladesh, i love bangladesh, i love bangladesh, i love bangladesh, i love bangladesh, i love bangladesh, i love bangladesh, i love bangladesh, i love bangladesh, i love bangladesh, i love bangladesh, i love bangladesh, i love bangladesh, i love bangladesh, i love bangladesh, i love bangladesh, i love bangladesh, i love bangladesh, i love bangladesh, i love bangladesh, i love bangladesh, i love bangladesh, i love bangladesh, i love bangladesh, i love bangladesh, i love bangladesh, i love bangladesh, i love bangladesh, i love bangladesh, i love bangladesh, i love bangladesh, i love bangladesh, i love bangladesh, i love bangladesh, i love bangladesh, i love bangladesh, i love bangladesh, i love bangladesh, i love bangladesh, i love bangladesh, i love bangladesh, i love bangladesh, i love bangladesh, i love bangladesh, i love bangladesh, i love bangladesh, i love bangladesh, i love bangladesh, i love bangladesh, \n",
            "siamrahman\n"
          ]
        }
      ]
    },
    {
      "cell_type": "code",
      "source": [
        "#boolean data type\n",
        "#from pkg_resources import non_empty_lines\n",
        "\n",
        "isBangladeshi=True\n",
        "print(isBangladeshi)\n",
        "\n",
        "#none data type\n",
        "\n",
        "taka=None\n",
        "print(taka)\n",
        "\n",
        "#dict type\n",
        "person={\n",
        "    'first_name': 'siam',\n",
        "    'last_name':'rahman',\n",
        "    'age':'34',\n",
        "    'isBangladeshi':True\n",
        "}\n",
        "print(person)\n",
        "print(person['age'])\n",
        "\n",
        "#set\n",
        "\n",
        "unique_numbers={1,2,3,3,1,2}\n",
        "print(unique_numbers)\n",
        "\n",
        "#frozenset- immutable\n",
        "unique_numbers={1,2,3,3,1,6,8,8,9,9,0,0,2}\n",
        "print(unique_numbers)\n",
        "\n",
        "\n",
        "\n"
      ],
      "metadata": {
        "colab": {
          "base_uri": "https://localhost:8080/"
        },
        "id": "Moh0MOc0XlOJ",
        "outputId": "85d0039d-6c7d-4b31-8381-e006db9810cd"
      },
      "execution_count": null,
      "outputs": [
        {
          "output_type": "stream",
          "name": "stdout",
          "text": [
            "True\n",
            "None\n",
            "{'first_name': 'siam', 'last_name': 'rahman', 'age': '34', 'isBangladeshi': True}\n",
            "34\n",
            "{1, 2, 3}\n",
            "{0, 1, 2, 3, 6, 8, 9}\n"
          ]
        }
      ]
    },
    {
      "cell_type": "code",
      "source": [
        "#boolean data type\n",
        "#from pkg_resources import non_empty_lines\n",
        "\n",
        "isBangladeshi=True\n",
        "print(isBangladeshi)\n",
        "\n",
        "#none data type\n",
        "\n",
        "taka=None\n",
        "print(taka)\n",
        "\n",
        "#dict type\n",
        "person={\n",
        "    'first_name': 'siam',\n",
        "    'last_name':'rahman',\n",
        "    'age':'34',\n",
        "    'isBangladeshi':True\n",
        "}\n",
        "print(person)\n",
        "print(person['age'])\n",
        "\n",
        "#set\n",
        "\n",
        "unique_numbers={1,2,3,3,1,2}\n",
        "print(unique_numbers)\n",
        "\n",
        "#frozenset- immutable\n",
        "unique_numbers={1,2,3,3,1,6,8,8,9,9,0,0,2}\n",
        "print(unique_numbers)\n",
        "\n",
        "#mutable data\n",
        "#list nia kj korbo\n",
        "l=[1,2,3,4]\n",
        "first_location=id(l)\n",
        "print(first_location)\n",
        "l[0]=4\n",
        "second_location=id(l)\n",
        "print(second_location)\n",
        "\n",
        "#set nia kaj korbo\n",
        "s=[1,2,3,4]\n",
        "first_location=id(s)\n",
        "print(first_location)\n",
        "s[0]=4\n",
        "second_location=id(s)\n",
        "print(second_location)\n",
        "\n"
      ],
      "metadata": {
        "colab": {
          "base_uri": "https://localhost:8080/"
        },
        "id": "7ze3riHRY8ej",
        "outputId": "a4866fe1-9411-4cd4-a615-ca00e86a3d91"
      },
      "execution_count": null,
      "outputs": [
        {
          "output_type": "stream",
          "name": "stdout",
          "text": [
            "True\n",
            "None\n",
            "{'first_name': 'siam', 'last_name': 'rahman', 'age': '34', 'isBangladeshi': True}\n",
            "34\n",
            "{1, 2, 3}\n",
            "{0, 1, 2, 3, 6, 8, 9}\n",
            "135495262124160\n",
            "135495262124160\n",
            "135495262124416\n",
            "135495262124416\n"
          ]
        }
      ]
    }
  ]
}